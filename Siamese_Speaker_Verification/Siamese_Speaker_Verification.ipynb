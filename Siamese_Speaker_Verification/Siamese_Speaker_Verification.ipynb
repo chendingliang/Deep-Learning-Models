{
  "nbformat": 4,
  "nbformat_minor": 0,
  "metadata": {
    "colab": {
      "name": "Assignment4_Question1.ipynb",
      "version": "0.3.2",
      "provenance": [],
      "collapsed_sections": []
    },
    "kernelspec": {
      "name": "python3",
      "display_name": "Python 3"
    },
    "accelerator": "GPU"
  },
  "cells": [
    {
      "metadata": {
        "id": "TbWv6YcIQ8lx",
        "colab_type": "code",
        "colab": {}
      },
      "cell_type": "code",
      "source": [
        "from google.colab import drive"
      ],
      "execution_count": 0,
      "outputs": []
    },
    {
      "metadata": {
        "id": "S79eSWVvRJro",
        "colab_type": "code",
        "colab": {}
      },
      "cell_type": "code",
      "source": [
        "drive.mount('/content/gdrive/')"
      ],
      "execution_count": 0,
      "outputs": []
    },
    {
      "metadata": {
        "id": "8T6qevWPRV8N",
        "colab_type": "code",
        "colab": {}
      },
      "cell_type": "code",
      "source": [
        "import os\n",
        "import numpy as np\n",
        "import tensorflow as tf\n",
        "import pickle\n",
        "import librosa\n",
        "import random\n",
        "import matplotlib.pyplot as plt\n",
        "import warnings\n",
        "warnings.filterwarnings('ignore')"
      ],
      "execution_count": 0,
      "outputs": []
    },
    {
      "metadata": {
        "id": "He6Ru8KlYyi8",
        "colab_type": "text"
      },
      "cell_type": "markdown",
      "source": [
        "# Loading train and test data"
      ]
    },
    {
      "metadata": {
        "id": "5_yVowECSVNS",
        "colab_type": "code",
        "colab": {}
      },
      "cell_type": "code",
      "source": [
        "def getData(pickle_path):\n",
        "  speech_list = []\n",
        "  mag_speech_list = []\n",
        "  \n",
        "  if os.path.exists(pickle_path):\n",
        "    speech_pickle = pickle.load(open(pickle_path, 'rb'))\n",
        "    print('Pickle already exists! Extracting the data from the pickle')\n",
        "    \n",
        "    for speech in speech_pickle:\n",
        "      S = librosa.stft(speech, n_fft=1024, hop_length=512)\n",
        "      mag_S = np.abs(S)\n",
        "      \n",
        "      speech_list.append(np.transpose(S))\n",
        "      mag_speech_list.append(np.transpose(mag_S))\n",
        "      \n",
        "    return speech_list , mag_speech_list\n",
        "  \n",
        "  else:\n",
        "    print('Pickle doesnt exist! Loading the data from input files')\n",
        "    return speech_list , mag_speech_list"
      ],
      "execution_count": 0,
      "outputs": []
    },
    {
      "metadata": {
        "id": "wAwBiEPYUkkP",
        "colab_type": "code",
        "outputId": "af51baf0-5b23-45fc-a9f3-f0b2bc0b3aba",
        "colab": {
          "base_uri": "https://localhost:8080/",
          "height": 34
        }
      },
      "cell_type": "code",
      "source": [
        "directory_path = '/content/gdrive/My Drive/Colab Notebooks/'\n",
        "train_speech_pickle = directory_path + 'hw4_trs.pkl'\n",
        "\n",
        "train_speech , mag_train_speech  = getData(train_speech_pickle)"
      ],
      "execution_count": 5,
      "outputs": [
        {
          "output_type": "stream",
          "text": [
            "Pickle already exists! Extracting the data from the pickle\n"
          ],
          "name": "stdout"
        }
      ]
    },
    {
      "metadata": {
        "id": "11jP3AV2ZwPy",
        "colab_type": "code",
        "outputId": "c953093b-242b-4d88-b0e9-4f138b80f3d9",
        "colab": {
          "base_uri": "https://localhost:8080/",
          "height": 34
        }
      },
      "cell_type": "code",
      "source": [
        "directory_path = '/content/gdrive/My Drive/Colab Notebooks/'\n",
        "test_speech_pickle = directory_path + 'hw4_tes.pkl'\n",
        "\n",
        "test_speech , mag_test_speech = getData(test_speech_pickle)"
      ],
      "execution_count": 6,
      "outputs": [
        {
          "output_type": "stream",
          "text": [
            "Pickle already exists! Extracting the data from the pickle\n"
          ],
          "name": "stdout"
        }
      ]
    },
    {
      "metadata": {
        "id": "XRG-kENMb6JY",
        "colab_type": "text"
      },
      "cell_type": "markdown",
      "source": [
        "# Creating pairs for Saimese Network\n",
        "\n",
        "**Positive pairs :**\n",
        "\n",
        "Speech samples from the same speakers are paired together. Since there are a maximum of 10 speech utterances of the same speaker, we can create a maximum of 45 pairs using $10 \\choose 2$ formula\n",
        "\n",
        "**Negative pairs :**\n",
        "\n",
        "Speech samples from different speakers are paired together"
      ]
    },
    {
      "metadata": {
        "id": "lBDKJljglUQF",
        "colab_type": "code",
        "colab": {}
      },
      "cell_type": "code",
      "source": [
        "def get_positive_pairs(L , start , end):\n",
        "  pairs = []\n",
        "  for i in range(start , end):\n",
        "    for j in range(i+1 , end):\n",
        "      pairs.append([i , j])\n",
        "  \n",
        "  if L == 45:\n",
        "    return pairs\n",
        "  else:    \n",
        "    L_pairs = random.choices(pairs , k = L)\n",
        "    return L_pairs\n",
        "\n",
        "#Creating a list of speakers from start to end index\n",
        "#If index of a non-speaker is same a the speaker, then we randomly generate an index \n",
        "#till we get an index not belonging to the list of speaker's index list\n",
        "def get_negative_pairs(L , start , end , max_iter):\n",
        "  pairs = []\n",
        "  speakers = list(range(start , end))\n",
        "  for i in range(0 , L):    \n",
        "    speaker = random.randrange(start , end)\n",
        "    non_speaker = random.randrange(0 , max_iter)\n",
        "    \n",
        "    while non_speaker in speakers:\n",
        "      non_speaker = random.randrange(0 , max_iter)\n",
        "      \n",
        "    pairs.append([speaker , non_speaker])\n",
        "  \n",
        "  return pairs"
      ],
      "execution_count": 0,
      "outputs": []
    },
    {
      "metadata": {
        "id": "xNHWxZ8aWQJF",
        "colab_type": "code",
        "colab": {}
      },
      "cell_type": "code",
      "source": [
        "#Creating a list of all positive and negative pairs together using speech samples\n",
        "def make_pairs(x , positive_pairs , negative_pairs):\n",
        "  \n",
        "  ########Positive########\n",
        "  left_positive = x[positive_pairs[0][0]]\n",
        "  right_positive = x[positive_pairs[0][1]]\n",
        "  \n",
        "  x_dim = np.shape(left_positive)[0]\n",
        "  y_dim = np.shape(right_positive)[1]\n",
        "  \n",
        "  left_positive = left_positive.reshape((-1 ,  x_dim , y_dim))\n",
        "  right_positive = right_positive.reshape((-1 ,  x_dim , y_dim))\n",
        "\n",
        "  for j in range(1 , len(positive_pairs)):\n",
        "    lp1 = x[positive_pairs[j][0]].reshape((-1 , x_dim , y_dim))\n",
        "    rp2 = x[positive_pairs[j][1]].reshape((-1 , x_dim , y_dim))\n",
        "    \n",
        "    left_positive = np.vstack((left_positive , lp1))\n",
        "    right_positive = np.vstack((right_positive , rp2))\n",
        "  \n",
        "  ########Negative########\n",
        "  left_negative = x[negative_pairs[0][0]]\n",
        "  right_negative = x[negative_pairs[0][1]]\n",
        "\n",
        "  left_negative = left_negative.reshape((-1 , x_dim , y_dim))\n",
        "  right_negative = right_negative.reshape((-1 , x_dim , y_dim))\n",
        "\n",
        "  for j in range(1 , len(negative_pairs)):\n",
        "    ln1 = x[negative_pairs[j][0]].reshape((-1 , x_dim , y_dim))\n",
        "    rn2 = x[negative_pairs[j][1]].reshape((-1 , x_dim , y_dim))\n",
        "    \n",
        "    left_negative = np.vstack((left_negative , ln1))\n",
        "    right_negative = np.vstack((right_negative , rn2))\n",
        "\n",
        "  all_left = np.vstack((left_positive , left_negative))\n",
        "  all_right = np.vstack((right_positive , right_negative))\n",
        "  \n",
        "  return all_left , all_right"
      ],
      "execution_count": 0,
      "outputs": []
    },
    {
      "metadata": {
        "id": "8VfQ7jsugs6X",
        "colab_type": "text"
      },
      "cell_type": "markdown",
      "source": [
        "#Training"
      ]
    },
    {
      "metadata": {
        "id": "W8AT_K5wgxc7",
        "colab_type": "text"
      },
      "cell_type": "markdown",
      "source": [
        "## Creating a model"
      ]
    },
    {
      "metadata": {
        "id": "OzcSc-NsDTWe",
        "colab_type": "code",
        "colab": {}
      },
      "cell_type": "code",
      "source": [
        "def getModel(x , gru_hidden_units , time_attr , reuse = False):\n",
        "  cells = []\n",
        "  for i in range(len(gru_hidden_units)):\n",
        "    gru_cell = tf.nn.rnn_cell.GRUCell(num_units= gru_hidden_units[i] , kernel_initializer = tf.contrib.layers.xavier_initializer(), reuse=reuse , name='GRU_cell_'+str(i))\n",
        "    cells.append(gru_cell)\n",
        "  multi_gru_cells = tf.nn.rnn_cell.MultiRNNCell(cells)\n",
        "\n",
        "  gru_output , state = tf.nn.dynamic_rnn(multi_gru_cells , x , dtype=tf.float32 , swap_memory = True)\n",
        "  batch_gru = tf.contrib.layers.batch_norm(gru_output, is_training=True, updates_collections=None)\n",
        "  \n",
        "  output = tf.layers.dense(inputs=batch_gru , units=30, activation = tf.nn.tanh ,\n",
        "                           kernel_initializer = tf.contrib.layers.variance_scaling_initializer(),\n",
        "                           bias_initializer = tf.zeros_initializer(), \n",
        "                           reuse = reuse, name='op')\n",
        "  \n",
        "  dropout = tf.nn.dropout(output , keep_prob = 0.9 , name = 'drop')\n",
        "  \n",
        "  output1 = tf.layers.dense(inputs=output , units=10, activation = tf.nn.tanh ,\n",
        "                           kernel_initializer = tf.contrib.layers.variance_scaling_initializer(),\n",
        "                           bias_initializer = tf.zeros_initializer(), \n",
        "                           reuse = reuse, name='op1')\n",
        "  \n",
        "  reshapedOutput = tf.reshape(output1,shape = [-1,time_attr*10])\n",
        "  \n",
        "  return reshapedOutput"
      ],
      "execution_count": 0,
      "outputs": []
    },
    {
      "metadata": {
        "id": "qanIHXidko10",
        "colab_type": "text"
      },
      "cell_type": "markdown",
      "source": [
        "## Defining model parameters"
      ]
    },
    {
      "metadata": {
        "id": "YgcMrkEK-y6H",
        "colab_type": "code",
        "colab": {}
      },
      "cell_type": "code",
      "source": [
        "left_input = tf.placeholder(tf.float32, [None, None , 513])\n",
        "right_input = tf.placeholder(tf.float32, [None, None , 513])\n",
        "label = tf.placeholder(tf.float32, [None])\n",
        "time_attr = tf.placeholder(tf.int32)"
      ],
      "execution_count": 0,
      "outputs": []
    },
    {
      "metadata": {
        "id": "cr-raArKFdab",
        "colab_type": "code",
        "colab": {}
      },
      "cell_type": "code",
      "source": [
        "gru_hidden_units = [256 , 128]\n",
        "learning_rate = 0.001\n",
        "num_epochs = 200\n",
        "num_utterances = 10\n",
        "L = 45"
      ],
      "execution_count": 0,
      "outputs": []
    },
    {
      "metadata": {
        "id": "_89JLQWTh_zA",
        "colab_type": "text"
      },
      "cell_type": "markdown",
      "source": [
        "## Creating a Siamese model \n",
        "\n",
        "The model takes two spectograms as input (left and right). Weights of the model are shared across both the sides"
      ]
    },
    {
      "metadata": {
        "id": "ozLIeK2B_tA0",
        "colab_type": "code",
        "colab": {}
      },
      "cell_type": "code",
      "source": [
        "left_output = getModel(left_input , gru_hidden_units, time_attr , reuse =  False)\n",
        "right_output = getModel(right_input , gru_hidden_units , time_attr , reuse = True)"
      ],
      "execution_count": 0,
      "outputs": []
    },
    {
      "metadata": {
        "id": "7l9nycIRpJLj",
        "colab_type": "text"
      },
      "cell_type": "markdown",
      "source": [
        "## Model Training\n",
        "\n",
        "Loss function  - $-y(x_{i},x_{j})log \\sigma(z_{i}^T z_{j}) - (1 - y(x_{i}, x_{j}))log(1 - \\sigma(z_{i}^T z_{j}))$\n",
        "\n",
        "Siamese network will try to predict 1 for positive pairs and 0 for negative pairs"
      ]
    },
    {
      "metadata": {
        "id": "Yz5LPZ2TAMhM",
        "colab_type": "code",
        "outputId": "b93bc63f-5414-499f-84d0-790d37147281",
        "colab": {
          "base_uri": "https://localhost:8080/",
          "height": 1867
        }
      },
      "cell_type": "code",
      "source": [
        "#Defining the loss function along with its optimizer\n",
        "label_pred = tf.reduce_sum(tf.multiply(left_output, right_output),axis=1 , name='dotprod')\n",
        "label_pred_sig = tf.nn.sigmoid(label_pred)\n",
        "# loss = -(label) * tf.log(label_pred+ (1e-6)) - (1 - label) * tf.log(1 - label_pred + (1e-6))\n",
        "loss = tf.nn.sigmoid_cross_entropy_with_logits(labels= label , logits= label_pred)\n",
        "loss_calculate = tf.reduce_sum(loss)\n",
        "train_step = tf.train.AdamOptimizer(learning_rate).minimize(loss_calculate)\n",
        "\n",
        "sess = tf.InteractiveSession()\n",
        "sess.run(tf.global_variables_initializer())\n",
        "\n",
        "loss_list = []\n",
        "true_label = []\n",
        "count = 0\n",
        "flag = True\n",
        "\n",
        "while flag:\n",
        "    #Mini batching\n",
        "    for i in range(0 , len(train_speech), num_utterances):\n",
        "      start = i\n",
        "      end = i + num_utterances\n",
        "      positive_pairs = get_positive_pairs(L , start , end)\n",
        "      negative_pairs = get_negative_pairs(L , start , end , len(train_speech))\n",
        "\n",
        "      left , right = make_pairs(mag_train_speech , positive_pairs , negative_pairs)\n",
        "      \n",
        "      if count == 0:    \n",
        "        ones = np.ones(L)\n",
        "        zeroes = np.zeros(L)\n",
        "\n",
        "        true_label.extend(ones)\n",
        "        true_label.extend(zeroes)\n",
        "\n",
        "      if i == 0:\n",
        "        all_left = left\n",
        "        all_right = right\n",
        "      else:\n",
        "        all_left = np.vstack((all_left , left))\n",
        "        all_right = np.vstack((all_right , right))\n",
        "    \n",
        "    train_time_attr = all_left.shape[1]\n",
        "    feed_dict = {left_input: all_left, right_input: all_right, time_attr:train_time_attr, label: true_label}\n",
        "    train_step.run(feed_dict=feed_dict)\n",
        "\n",
        "    \n",
        "    if count%2 == 0:\n",
        "        loss_calc = loss_calculate.eval(feed_dict=feed_dict)\n",
        "        loss_list.append((loss_calc))\n",
        "        print(\"Epoch %d, loss %g\"%(count, loss_calc))\n",
        "    \n",
        "    #Once all the epochs are completed, training is stopped\n",
        "    if count >= num_epochs:\n",
        "        flag = False  \n",
        "        \n",
        "    count+=1"
      ],
      "execution_count": 13,
      "outputs": [
        {
          "output_type": "stream",
          "text": [
            "WARNING:tensorflow:From /usr/local/lib/python3.6/dist-packages/tensorflow/python/ops/math_ops.py:3066: to_int32 (from tensorflow.python.ops.math_ops) is deprecated and will be removed in a future version.\n",
            "Instructions for updating:\n",
            "Use tf.cast instead.\n",
            "Epoch 0, loss 175577\n",
            "Epoch 2, loss 89604.3\n",
            "Epoch 4, loss 62977.1\n",
            "Epoch 6, loss 52203.6\n",
            "Epoch 8, loss 38445.1\n",
            "Epoch 10, loss 34441.9\n",
            "Epoch 12, loss 29935.4\n",
            "Epoch 14, loss 25550.6\n",
            "Epoch 16, loss 20449.2\n",
            "Epoch 18, loss 18564.6\n",
            "Epoch 20, loss 15437.2\n",
            "Epoch 22, loss 14139.6\n",
            "Epoch 24, loss 11703.6\n",
            "Epoch 26, loss 11090.5\n",
            "Epoch 28, loss 9425.74\n",
            "Epoch 30, loss 8693\n",
            "Epoch 32, loss 7324.52\n",
            "Epoch 34, loss 6896.5\n",
            "Epoch 36, loss 6187.86\n",
            "Epoch 38, loss 5515.79\n",
            "Epoch 40, loss 5016.19\n",
            "Epoch 42, loss 4925.97\n",
            "Epoch 44, loss 4526.18\n",
            "Epoch 46, loss 4313.6\n",
            "Epoch 48, loss 4194.38\n",
            "Epoch 50, loss 3765.99\n",
            "Epoch 52, loss 3606.02\n",
            "Epoch 54, loss 3433.05\n",
            "Epoch 56, loss 3205.41\n",
            "Epoch 58, loss 3118.43\n",
            "Epoch 60, loss 3069.79\n",
            "Epoch 62, loss 2897.85\n",
            "Epoch 64, loss 2874.73\n",
            "Epoch 66, loss 2752.17\n",
            "Epoch 68, loss 2717.27\n",
            "Epoch 70, loss 2685.33\n",
            "Epoch 72, loss 2596.65\n",
            "Epoch 74, loss 2602.96\n",
            "Epoch 76, loss 2488.8\n",
            "Epoch 78, loss 2403.98\n",
            "Epoch 80, loss 2376.8\n",
            "Epoch 82, loss 2336.95\n",
            "Epoch 84, loss 2334.72\n",
            "Epoch 86, loss 2231.37\n",
            "Epoch 88, loss 2138.1\n",
            "Epoch 90, loss 2102.34\n",
            "Epoch 92, loss 2094.02\n",
            "Epoch 94, loss 2054.23\n",
            "Epoch 96, loss 2086.49\n",
            "Epoch 98, loss 1975.23\n",
            "Epoch 100, loss 1952.85\n",
            "Epoch 102, loss 1942.38\n",
            "Epoch 104, loss 1884.46\n",
            "Epoch 106, loss 1823.1\n",
            "Epoch 108, loss 1829.13\n",
            "Epoch 110, loss 1863.76\n",
            "Epoch 112, loss 1731.58\n",
            "Epoch 114, loss 1733.51\n",
            "Epoch 116, loss 1684.28\n",
            "Epoch 118, loss 1631.05\n",
            "Epoch 120, loss 1662.03\n",
            "Epoch 122, loss 1649.48\n",
            "Epoch 124, loss 1614.18\n",
            "Epoch 126, loss 1624.04\n",
            "Epoch 128, loss 1583.26\n",
            "Epoch 130, loss 1485.46\n",
            "Epoch 132, loss 1526.87\n",
            "Epoch 134, loss 1476.65\n",
            "Epoch 136, loss 1477.47\n",
            "Epoch 138, loss 1493.29\n",
            "Epoch 140, loss 1454.36\n",
            "Epoch 142, loss 1470.43\n",
            "Epoch 144, loss 1373.05\n",
            "Epoch 146, loss 1359.87\n",
            "Epoch 148, loss 1312.62\n",
            "Epoch 150, loss 1339.39\n",
            "Epoch 152, loss 1317.51\n",
            "Epoch 154, loss 1260.72\n",
            "Epoch 156, loss 1234.63\n",
            "Epoch 158, loss 1283.28\n",
            "Epoch 160, loss 1286.07\n",
            "Epoch 162, loss 1237.37\n",
            "Epoch 164, loss 1214.78\n",
            "Epoch 166, loss 1136.87\n",
            "Epoch 168, loss 1152.9\n",
            "Epoch 170, loss 1112.73\n",
            "Epoch 172, loss 1140.6\n",
            "Epoch 174, loss 1086\n",
            "Epoch 176, loss 1084.71\n",
            "Epoch 178, loss 1053.18\n",
            "Epoch 180, loss 1030.68\n",
            "Epoch 182, loss 998.584\n",
            "Epoch 184, loss 969.884\n",
            "Epoch 186, loss 989.634\n",
            "Epoch 188, loss 1064.98\n",
            "Epoch 190, loss 1062.87\n",
            "Epoch 192, loss 993.627\n",
            "Epoch 194, loss 948.158\n",
            "Epoch 196, loss 940.168\n",
            "Epoch 198, loss 911.075\n",
            "Epoch 200, loss 928.933\n"
          ],
          "name": "stdout"
        }
      ]
    },
    {
      "metadata": {
        "id": "zPJkNbmroObC",
        "colab_type": "code",
        "outputId": "52257083-b657-4a21-f012-8a053d450310",
        "colab": {
          "base_uri": "https://localhost:8080/",
          "height": 286
        }
      },
      "cell_type": "code",
      "source": [
        "plt.plot(loss_list)"
      ],
      "execution_count": 14,
      "outputs": [
        {
          "output_type": "execute_result",
          "data": {
            "text/plain": [
              "[<matplotlib.lines.Line2D at 0x7ff9180a35c0>]"
            ]
          },
          "metadata": {
            "tags": []
          },
          "execution_count": 14
        },
        {
          "output_type": "display_data",
          "data": {
            "image/png": "[encoded data removed]",
            "text/plain": [
              "<Figure size 432x288 with 1 Axes>"
            ]
          },
          "metadata": {
            "tags": []
          }
        }
      ]
    },
    {
      "metadata": {
        "id": "6AkAZuQnn7ZX",
        "colab_type": "text"
      },
      "cell_type": "markdown",
      "source": [
        "# Testing\n",
        "\n",
        "## Creating positive and negative pairs for testing"
      ]
    },
    {
      "metadata": {
        "id": "sU79LCssjcQU",
        "colab_type": "code",
        "colab": {}
      },
      "cell_type": "code",
      "source": [
        "true_label = []\n",
        "for i in range(0 , len(test_speech), num_utterances):\n",
        "  start = i\n",
        "  end = i + num_utterances\n",
        "  test_positive_pairs = get_positive_pairs(L , start , end)\n",
        "  test_negative_pairs = get_negative_pairs(L , start , end , len(test_speech))\n",
        "\n",
        "  test_left , test_right = make_pairs(mag_test_speech , test_positive_pairs , test_negative_pairs)\n",
        "  \n",
        "  \n",
        "  ones = np.ones(L)\n",
        "  zeroes = np.zeros(L)\n",
        "\n",
        "  true_label.extend(ones)\n",
        "  true_label.extend(zeroes)\n",
        "\n",
        "  if i == 0:\n",
        "    test_all_left = test_left\n",
        "    test_all_right = test_right\n",
        "  else:\n",
        "    test_all_left = np.vstack((test_all_left , test_left))\n",
        "    test_all_right = np.vstack((test_all_right , test_right))"
      ],
      "execution_count": 0,
      "outputs": []
    },
    {
      "metadata": {
        "id": "kg7wzcERveSc",
        "colab_type": "text"
      },
      "cell_type": "markdown",
      "source": [
        "## Predicting output for test data"
      ]
    },
    {
      "metadata": {
        "id": "H8iZqUIHR3Lw",
        "colab_type": "code",
        "colab": {}
      },
      "cell_type": "code",
      "source": [
        "test_time_attr = test_all_left.shape[1]\n",
        "feed_dict = {left_input: test_all_left, right_input: test_all_right, time_attr:test_time_attr}\n",
        "\n",
        "predicted_output = label_pred_sig.eval(feed_dict=feed_dict)"
      ],
      "execution_count": 0,
      "outputs": []
    },
    {
      "metadata": {
        "id": "puPzVPMZvOU_",
        "colab_type": "text"
      },
      "cell_type": "markdown",
      "source": [
        "## Binarising predicted output"
      ]
    },
    {
      "metadata": {
        "id": "mm5mftavSEiR",
        "colab_type": "code",
        "colab": {}
      },
      "cell_type": "code",
      "source": [
        "for i in range(len(predicted_output)):\n",
        "  if predicted_output[i] >= 0.5:\n",
        "    predicted_output[i] = 1\n",
        "  else:\n",
        "    predicted_output[i] = 0"
      ],
      "execution_count": 0,
      "outputs": []
    },
    {
      "metadata": {
        "id": "HP3GnjGcvW6A",
        "colab_type": "text"
      },
      "cell_type": "markdown",
      "source": [
        "## Calculating the accuracy of test data"
      ]
    },
    {
      "metadata": {
        "id": "psSiCpLwSpQn",
        "colab_type": "code",
        "outputId": "90627f1a-14b7-4e12-927a-822c85f2e137",
        "colab": {
          "base_uri": "https://localhost:8080/",
          "height": 34
        }
      },
      "cell_type": "code",
      "source": [
        "accuracy = sum(predicted_output == true_label)\n",
        "print('Accuracy for test data : ' + str(accuracy/len(predicted_output)))"
      ],
      "execution_count": 18,
      "outputs": [
        {
          "output_type": "stream",
          "text": [
            "Accuracy for test data : 0.6833333333333333\n"
          ],
          "name": "stdout"
        }
      ]
    }
  ]
}