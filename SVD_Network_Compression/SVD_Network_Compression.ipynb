{
  "nbformat": 4,
  "nbformat_minor": 0,
  "metadata": {
    "colab": {
      "name": "Assignment3_Question1.ipynb",
      "version": "0.3.2",
      "provenance": [],
      "collapsed_sections": []
    },
    "kernelspec": {
      "name": "python3",
      "display_name": "Python 3"
    },
    "accelerator": "GPU"
  },
  "cells": [
    {
      "metadata": {
        "id": "gmg2ztQJWEFa",
        "colab_type": "code",
        "colab": {}
      },
      "cell_type": "code",
      "source": [
        "import tensorflow as tf\n",
        "import numpy as np\n",
        "import matplotlib.pyplot as plt\n",
        "import random\n",
        "from tensorflow.examples.tutorials.mnist import input_data"
      ],
      "execution_count": 0,
      "outputs": []
    },
    {
      "metadata": {
        "id": "xAVoWAwjRIVy",
        "colab_type": "code",
        "colab": {}
      },
      "cell_type": "code",
      "source": [
        "mnist = input_data.read_data_sets('MNIST_data', one_hot=True)"
      ],
      "execution_count": 0,
      "outputs": []
    },
    {
      "metadata": {
        "id": "GpSADVyaQ95P",
        "colab_type": "code",
        "colab": {}
      },
      "cell_type": "code",
      "source": [
        "#Defining model specifications\n",
        "learning_rate = 0.0003\n",
        "act_layers = [tf.nn.relu, tf.nn.relu, tf.nn.relu, tf.nn.relu, tf.nn.relu, tf.nn.softmax]\n",
        "neurons = [1024, 1024, 1024, 1024, 1024, 10]\n",
        "num_layers = len(act_layers)\n",
        "batch_size = 1000\n",
        "total_train_images = np.shape(mnist.train.images)[0]"
      ],
      "execution_count": 0,
      "outputs": []
    },
    {
      "metadata": {
        "id": "0iUVeCOIROKB",
        "colab_type": "code",
        "colab": {}
      },
      "cell_type": "code",
      "source": [
        "#Generating a deep network of n layers with specific activation functions\n",
        "#and specified number of neurons in each layer\n",
        "def getModel(x , act_layers , neurons , u_weights , v_bar_weights , last_layer_weight):\n",
        "    num_layers = len(act_layers)\n",
        "    layers = [0]*num_layers\n",
        "    \n",
        "    if u_weights and v_bar_weights:\n",
        "      for i in range(0 , num_layers):        \n",
        "        if i == 0:\n",
        "            u_index = i // 2\n",
        "            kernel_weight = tf.constant_initializer(u_weights[u_index].eval())\n",
        "            layers[i] = tf.layers.dense(x , units= neurons[i] , activation=act_layers[i] , kernel_initializer=kernel_weight)   \n",
        "            \n",
        "        elif i < num_layers-1:\n",
        "          if i % 2 == 0:\n",
        "            u_index = i // 2\n",
        "            kernel_weight = tf.constant_initializer(u_weights[u_index].eval())\n",
        "            layers[i] = tf.layers.dense(layers[i-1] , units= neurons[i] , activation=act_layers[i] , kernel_initializer=kernel_weight)\n",
        "            \n",
        "          else:\n",
        "            v_index = i // 2\n",
        "            kernel_weight = tf.constant_initializer(v_bar_weights[v_index].eval())\n",
        "            layers[i] = tf.layers.dense(layers[i-1] , units= neurons[i] , activation=act_layers[i] , kernel_initializer=kernel_weight)\n",
        "            \n",
        "        else:\n",
        "            kernel_weight = tf.constant_initializer(last_layer_weight.eval())\n",
        "            layers[i] = tf.layers.dense(layers[i-1] , units= neurons[i] , activation=act_layers[i] , kernel_initializer=kernel_weight)\n",
        "    else:\n",
        "      for i in range(0 , num_layers):        \n",
        "          if i == 0:\n",
        "              layers[i] = tf.layers.dense(x , units= neurons[i] , activation=act_layers[i])        \n",
        "          elif i < num_layers-1:\n",
        "              layers[i] = tf.layers.dense(layers[i-1] , units= neurons[i] , activation=act_layers[i])\n",
        "          else:\n",
        "              layers[i] = tf.layers.dense(layers[i-1] , units= neurons[i] , activation=act_layers[i])\n",
        "    \n",
        "    return layers"
      ],
      "execution_count": 0,
      "outputs": []
    },
    {
      "metadata": {
        "id": "kXIu83vrRgNX",
        "colab_type": "code",
        "outputId": "852d025c-026c-4847-f0dd-5695bb09dd46",
        "colab": {
          "base_uri": "https://localhost:8080/",
          "height": 142
        }
      },
      "cell_type": "code",
      "source": [
        "#Creating placeholders for input and output\n",
        "input = tf.placeholder(tf.float32, [None, 784])\n",
        "labels = tf.placeholder(tf.float32, [None, 10])\n",
        "\n",
        "#Getting the DNN model\n",
        "u_weights = []\n",
        "v_bar_weights = []\n",
        "last_layer_weight = []\n",
        "output = getModel(input, act_layers, neurons, u_weights , v_bar_weights , last_layer_weight)"
      ],
      "execution_count": 5,
      "outputs": [
        {
          "output_type": "stream",
          "text": [
            "WARNING:tensorflow:From <ipython-input-4-763c3d1456a9>:29: dense (from tensorflow.python.layers.core) is deprecated and will be removed in a future version.\n",
            "Instructions for updating:\n",
            "Use keras.layers.dense instead.\n",
            "WARNING:tensorflow:From /usr/local/lib/python3.6/dist-packages/tensorflow/python/framework/op_def_library.py:263: colocate_with (from tensorflow.python.framework.ops) is deprecated and will be removed in a future version.\n",
            "Instructions for updating:\n",
            "Colocations handled automatically by placer.\n"
          ],
          "name": "stdout"
        }
      ]
    },
    {
      "metadata": {
        "id": "dEJ8pvNsRt_H",
        "colab_type": "code",
        "colab": {}
      },
      "cell_type": "code",
      "source": [
        "#Defining the loss function along with its optimizer\n",
        "loss = tf.nn.softmax_cross_entropy_with_logits_v2(logits = output[num_layers - 1], labels = labels)\n",
        "train_step = tf.train.AdamOptimizer(learning_rate).minimize(loss)\n",
        "correct_prediction = tf.equal(tf.argmax(output[num_layers - 1], 1), tf.argmax(labels, 1))\n",
        "accuracy = tf.reduce_mean(tf.cast(correct_prediction, tf.float32))"
      ],
      "execution_count": 0,
      "outputs": []
    },
    {
      "metadata": {
        "id": "qilHfBd3Fc5L",
        "colab_type": "text"
      },
      "cell_type": "markdown",
      "source": [
        "# Training step\n",
        "Code execution will stop when 98% accuracy is achieved else when 200 epochs are computed."
      ]
    },
    {
      "metadata": {
        "id": "PwAHgRAqSvuy",
        "colab_type": "code",
        "outputId": "9e549f28-7f2f-4b56-96ef-4cbde36cfab9",
        "colab": {
          "base_uri": "https://localhost:8080/",
          "height": 334
        }
      },
      "cell_type": "code",
      "source": [
        "#Creating Interactivesession\n",
        "sess = tf.InteractiveSession()\n",
        "sess.run(tf.global_variables_initializer())\n",
        "\n",
        "flag = True\n",
        "count = 1\n",
        "\n",
        "#Training\n",
        "while flag:\n",
        "  #Training the model in batches of size 500\n",
        "   for i in range(total_train_images // batch_size):      \n",
        "       \n",
        "      input_batch, labels_batch = mnist.train.next_batch(batch_size)\n",
        "      feed_dict = {input: input_batch, labels: labels_batch}\n",
        "\n",
        "      train_step.run(feed_dict=feed_dict)\n",
        "      \n",
        "   #Testing\n",
        "   #Calculating the test accuracy \n",
        "   test_x , test_y = mnist.test.next_batch(10000)\n",
        "   test_accuracy = accuracy.eval(feed_dict={input: test_x, labels: test_y})\n",
        "   print(\"Epoch %d, testing accuracy %g\"%(count, test_accuracy))\n",
        "    \n",
        "  #Once training accuracy reaches 98%, training is stopped\n",
        "   if test_accuracy >= 0.98 or count >= 200:\n",
        "       flag = False\n",
        "  \n",
        "   count += 1"
      ],
      "execution_count": 7,
      "outputs": [
        {
          "output_type": "stream",
          "text": [
            "Epoch 1, testing accuracy 0.9237\n",
            "Epoch 2, testing accuracy 0.9464\n",
            "Epoch 3, testing accuracy 0.959\n",
            "Epoch 4, testing accuracy 0.9645\n",
            "Epoch 5, testing accuracy 0.967\n",
            "Epoch 6, testing accuracy 0.9703\n",
            "Epoch 7, testing accuracy 0.9717\n",
            "Epoch 8, testing accuracy 0.9729\n",
            "Epoch 9, testing accuracy 0.9729\n",
            "Epoch 10, testing accuracy 0.9737\n",
            "Epoch 11, testing accuracy 0.9764\n",
            "Epoch 12, testing accuracy 0.9726\n",
            "Epoch 13, testing accuracy 0.9776\n",
            "Epoch 14, testing accuracy 0.976\n",
            "Epoch 15, testing accuracy 0.9783\n",
            "Epoch 16, testing accuracy 0.9773\n",
            "Epoch 17, testing accuracy 0.9772\n",
            "Epoch 18, testing accuracy 0.98\n"
          ],
          "name": "stdout"
        }
      ]
    },
    {
      "metadata": {
        "id": "kP9NRTVYGdIU",
        "colab_type": "text"
      },
      "cell_type": "markdown",
      "source": [
        "Extracting variables like weights and bias from the trained model"
      ]
    },
    {
      "metadata": {
        "id": "9igYSts-l_B4",
        "colab_type": "code",
        "colab": {}
      },
      "cell_type": "code",
      "source": [
        "variables = tf.get_collection(tf.GraphKeys.TRAINABLE_VARIABLES)"
      ],
      "execution_count": 0,
      "outputs": []
    },
    {
      "metadata": {
        "id": "WCNwuENaF8vt",
        "colab_type": "code",
        "outputId": "fef61e3a-e232-483d-ff80-14b9023d35d4",
        "colab": {
          "base_uri": "https://localhost:8080/",
          "height": 228
        }
      },
      "cell_type": "code",
      "source": [
        "variables"
      ],
      "execution_count": 9,
      "outputs": [
        {
          "output_type": "execute_result",
          "data": {
            "text/plain": [
              "[<tf.Variable 'dense/kernel:0' shape=(784, 1024) dtype=float32_ref>,\n",
              " <tf.Variable 'dense/bias:0' shape=(1024,) dtype=float32_ref>,\n",
              " <tf.Variable 'dense_1/kernel:0' shape=(1024, 1024) dtype=float32_ref>,\n",
              " <tf.Variable 'dense_1/bias:0' shape=(1024,) dtype=float32_ref>,\n",
              " <tf.Variable 'dense_2/kernel:0' shape=(1024, 1024) dtype=float32_ref>,\n",
              " <tf.Variable 'dense_2/bias:0' shape=(1024,) dtype=float32_ref>,\n",
              " <tf.Variable 'dense_3/kernel:0' shape=(1024, 1024) dtype=float32_ref>,\n",
              " <tf.Variable 'dense_3/bias:0' shape=(1024,) dtype=float32_ref>,\n",
              " <tf.Variable 'dense_4/kernel:0' shape=(1024, 1024) dtype=float32_ref>,\n",
              " <tf.Variable 'dense_4/bias:0' shape=(1024,) dtype=float32_ref>,\n",
              " <tf.Variable 'dense_5/kernel:0' shape=(1024, 10) dtype=float32_ref>,\n",
              " <tf.Variable 'dense_5/bias:0' shape=(10,) dtype=float32_ref>]"
            ]
          },
          "metadata": {
            "tags": []
          },
          "execution_count": 9
        }
      ]
    },
    {
      "metadata": {
        "id": "y3pPzqIifDXr",
        "colab_type": "code",
        "colab": {}
      },
      "cell_type": "code",
      "source": [
        "#Creating separate list of all weights and bias\n",
        "W_l = []\n",
        "b_l = []\n",
        "\n",
        "for i in range(0 , len(variables) , 2):\n",
        "  W_l.append(variables[i])\n",
        "  b_l.append(variables[i+1])"
      ],
      "execution_count": 0,
      "outputs": []
    },
    {
      "metadata": {
        "id": "w1p13TTpf2vy",
        "colab_type": "code",
        "colab": {}
      },
      "cell_type": "code",
      "source": [
        "\"\"\"\n",
        "Computing SVD of a given matrix\n",
        "tf.svd(matrix) returns N singular values\n",
        "It is then converted into a diagonal matrix of N*N\n",
        "\"\"\"\n",
        "\n",
        "def compute_SVD(X):\n",
        "  s, u, v = tf.svd(X)\n",
        "  \n",
        "  s_diag = tf.linalg.diag(s)\n",
        "  \n",
        "  return s_diag, u, v\n",
        "\n",
        "def compute_W_bar(s, u, v):\n",
        "  v_bar = tf.matmul(s, v, adjoint_b=True)\n",
        "  result = tf.matmul(u, v_bar)\n",
        "  \n",
        "  return result , v_bar"
      ],
      "execution_count": 0,
      "outputs": []
    },
    {
      "metadata": {
        "id": "E4gJoAJ1hlgC",
        "colab_type": "code",
        "colab": {}
      },
      "cell_type": "code",
      "source": [
        "\"\"\"\n",
        "Creating a list of:\n",
        "S - Singular values\n",
        "U - Left singular values\n",
        "V - Right singular values\n",
        "\n",
        "for all W matrix except the last one since its a small matrix\n",
        "so there is no need to compute SVD for that matrix\n",
        "\"\"\"\n",
        "s_l = []\n",
        "u_l = []\n",
        "v_l = []\n",
        "for i in range(0 , len(W_l) - 1):\n",
        "  s, u, v = compute_SVD(W_l[i])\n",
        "  \n",
        "  s_l.append(s)\n",
        "  u_l.append(u)\n",
        "  v_l.append(v)"
      ],
      "execution_count": 0,
      "outputs": []
    },
    {
      "metadata": {
        "id": "jZBQxyVsd2M5",
        "colab_type": "code",
        "colab": {}
      },
      "cell_type": "code",
      "source": [
        "#Selecting 'D' significant singular values to reduce the dimensionality\n",
        "D = [10, 20, 50, 100, 200, 'DFull']"
      ],
      "execution_count": 0,
      "outputs": []
    },
    {
      "metadata": {
        "id": "PS_2fheyZC47",
        "colab_type": "code",
        "colab": {}
      },
      "cell_type": "code",
      "source": [
        "\"\"\"\n",
        "W_bar - Approximation of the original weight matrix. It is calculated using U.S.V\n",
        "s_d - Selecting D significant singular values\n",
        "u_d - Selecting D significant left singular values\n",
        "v_d - Selecting D significant right singular values\n",
        "v_bar = Dot product of S and V\n",
        "\"\"\"\n",
        "\n",
        "W_bar_l = []\n",
        "s_d_list = []\n",
        "u_d_list = []\n",
        "v_d_list = []\n",
        "v_bar_list = []\n",
        "\n",
        "for d_val in D:\n",
        "  for j in range(0, len(W_l) - 1):\n",
        "    if d_val == 'DFull':\n",
        "      s_d = s_l[j][: , :]\n",
        "      u_d = u_l[j][: , :]\n",
        "      v_d = v_l[j][: , :]\n",
        "    else:\n",
        "      s_d = s_l[j][:d_val , :d_val]\n",
        "      u_d = u_l[j][: , :d_val]\n",
        "      v_d = v_l[j][: , :d_val]\n",
        "        \n",
        "    s_d_list.append(s_d)\n",
        "    u_d_list.append(u_d)\n",
        "    v_d_list.append(v_d)\n",
        "    \n",
        "    result , v_bar = compute_W_bar(s_d , u_d , v_d)\n",
        "    \n",
        "    W_bar_l.append(result)\n",
        "    v_bar_list.append(v_bar)"
      ],
      "execution_count": 0,
      "outputs": []
    },
    {
      "metadata": {
        "id": "dKpwNjN6z-TY",
        "colab_type": "code",
        "colab": {}
      },
      "cell_type": "code",
      "source": [
        "def feedforward(input , activation_layer , weights , biases , last_layer_weight):\n",
        "  result = []\n",
        "  n = len(weights)\n",
        "  for i in range(0 , n+1):\n",
        "    if i == 0:\n",
        "      temp = activation_layer[i](tf.matmul(input , weights[i]) + biases[i])\n",
        "    elif i < n:\n",
        "      temp = activation_layer[i](tf.matmul(result[i-1] , weights[i]) + biases[i])\n",
        "    else:\n",
        "      temp = activation_layer[i](tf.matmul(result[i-1] , last_layer_weight) + biases[i])\n",
        "    \n",
        "    result.append(temp)\n",
        "   \n",
        "  return result"
      ],
      "execution_count": 0,
      "outputs": []
    },
    {
      "metadata": {
        "id": "UQceEEdN5PBn",
        "colab_type": "code",
        "colab": {}
      },
      "cell_type": "code",
      "source": [
        "def calculate_accuracy(x , y):\n",
        "  count_equal_values = tf.equal(tf.argmax(x, 1), tf.argmax(y, 1))\n",
        "  answer = count_equal_values.eval()\n",
        "  \n",
        "  count = 0\n",
        "  for i in range(len(answer)):\n",
        "    if answer[i] == True:\n",
        "      count+=1      \n",
        "  \n",
        "  return count"
      ],
      "execution_count": 0,
      "outputs": []
    },
    {
      "metadata": {
        "id": "06d-gsvU7-VM",
        "colab_type": "code",
        "outputId": "b7ed1227-2f67-45d0-d37d-ee329ca81b31",
        "colab": {
          "base_uri": "https://localhost:8080/",
          "height": 122
        }
      },
      "cell_type": "code",
      "source": [
        "accuracy_list = []\n",
        "for i in range(0 , len(W_bar_l) , 5):\n",
        "  ff_output = feedforward(test_x , act_layers , W_bar_l[i : i+5] , b_l , W_l[5])\n",
        "  accuracy = calculate_accuracy(ff_output[-1] , test_y)\n",
        "  accuracy = accuracy/test_y.shape[0]\n",
        "  \n",
        "  accuracy_list.append(accuracy)\n",
        "  print('Accuracy for D: ' + str(D[int(i/5)]) + ' is '+ str(accuracy))"
      ],
      "execution_count": 17,
      "outputs": [
        {
          "output_type": "stream",
          "text": [
            "Accuracy for D: 10 is 0.712\n",
            "Accuracy for D: 20 is 0.8759\n",
            "Accuracy for D: 50 is 0.9449\n",
            "Accuracy for D: 100 is 0.9566\n",
            "Accuracy for D: 200 is 0.9692\n",
            "Accuracy for D: DFull is 0.98\n"
          ],
          "name": "stdout"
        }
      ]
    },
    {
      "metadata": {
        "id": "jkIanoUat88E",
        "colab_type": "code",
        "outputId": "49923b53-61e3-4c39-f32b-43ba69eb3551",
        "colab": {
          "base_uri": "https://localhost:8080/",
          "height": 361
        }
      },
      "cell_type": "code",
      "source": [
        "plt.plot(D , accuracy_list)\n",
        "plt.xlabel('D Singular Values')\n",
        "plt.ylabel('Test Accuracy')\n",
        "plt.show()"
      ],
      "execution_count": 18,
      "outputs": [
        {
          "output_type": "display_data",
          "data": {
            "image/png": "[encoded data removed]",
            "text/plain": [
              "<Figure size 576x396 with 1 Axes>"
            ]
          },
          "metadata": {
            "tags": []
          }
        }
      ]
    },
    {
      "metadata": {
        "id": "j5hBLqWVMtMG",
        "colab_type": "text"
      },
      "cell_type": "markdown",
      "source": [
        "# Creating new model for training\n",
        "\n",
        "Since the previous model had large weight matrices, we use those trained weight matrices as a starting point for the new model. \\\\\n",
        "We replace the 5 hidden layer with 10 layers where each weight matrix(except the last one) is replaced by U and V_bar. \\\\\n",
        "Accuracy should start at a good rate because we are using the trained values in our new model."
      ]
    },
    {
      "metadata": {
        "id": "yr06u9cWNYIa",
        "colab_type": "code",
        "colab": {}
      },
      "cell_type": "code",
      "source": [
        "#Defining model specifications\n",
        "new_learning_rate = 0.0003\n",
        "new_act_layers = [tf.nn.relu, tf.nn.relu, tf.nn.relu, tf.nn.relu, tf.nn.relu, tf.nn.relu, tf.nn.relu, tf.nn.relu, tf.nn.relu, tf.nn.relu, tf.nn.softmax]\n",
        "new_neurons = [20, 1024, 20, 1024, 20, 1024, 20, 1024, 20, 1024, 10]\n",
        "new_num_layers = len(new_act_layers)\n",
        "new_batch_size = 1000\n",
        "total_train_images = np.shape(mnist.train.images)[0]"
      ],
      "execution_count": 0,
      "outputs": []
    },
    {
      "metadata": {
        "id": "bl1Np3TdMzpt",
        "colab_type": "code",
        "colab": {}
      },
      "cell_type": "code",
      "source": [
        "\"\"\"\n",
        "Considering D = 20 and thus only taking matrices from U_d and V_bar\n",
        "for which D = 20 and also the last layer weight\n",
        "\"\"\"\n",
        "new_output = getModel(input, new_act_layers, new_neurons , u_d_list[5 : 10] , v_bar_list[5 : 10] , W_l[-1])"
      ],
      "execution_count": 0,
      "outputs": []
    },
    {
      "metadata": {
        "id": "_Z6aEIzRN6Mv",
        "colab_type": "code",
        "colab": {}
      },
      "cell_type": "code",
      "source": [
        "#Defining the loss function along with its optimizer\n",
        "new_loss = tf.nn.softmax_cross_entropy_with_logits_v2(logits = new_output[new_num_layers - 1], labels = labels)\n",
        "new_train_step = tf.train.AdamOptimizer(new_learning_rate).minimize(new_loss)\n",
        "new_correct_prediction = tf.equal(tf.argmax(new_output[new_num_layers - 1], 1), tf.argmax(labels, 1))\n",
        "new_accuracy = tf.reduce_mean(tf.cast(new_correct_prediction, tf.float32))"
      ],
      "execution_count": 0,
      "outputs": []
    },
    {
      "metadata": {
        "id": "kFxS6cV3OHJ-",
        "colab_type": "code",
        "outputId": "17d47c91-14ae-40df-9321-914081ce81f6",
        "colab": {
          "base_uri": "https://localhost:8080/",
          "height": 862
        }
      },
      "cell_type": "code",
      "source": [
        "sess.run(tf.global_variables_initializer())\n",
        "\n",
        "flag = True\n",
        "count = 1\n",
        "\n",
        "#Training\n",
        "while flag:\n",
        "  #Training the model in batches of size 500\n",
        "   for i in range(total_train_images // new_batch_size):      \n",
        "       \n",
        "      input_batch, labels_batch = mnist.train.next_batch(new_batch_size)\n",
        "      feed_dict = {input: input_batch, labels: labels_batch}\n",
        "\n",
        "      new_train_step.run(feed_dict=feed_dict)\n",
        "      \n",
        "   #Testing\n",
        "   #Calculating the test accuracy \n",
        "   test_x , test_y = mnist.test.next_batch(10000)\n",
        "   new_test_accuracy = new_accuracy.eval(feed_dict={input: test_x, labels: test_y})\n",
        "   print(\"Epoch %d, testing accuracy %g\"%(count, new_test_accuracy))\n",
        "    \n",
        "  #Once training accuracy reaches 98%, training is stopped\n",
        "   if new_test_accuracy >= 0.97 or count >= 200:\n",
        "       flag = False\n",
        "  \n",
        "   count += 1"
      ],
      "execution_count": 22,
      "outputs": [
        {
          "output_type": "stream",
          "text": [
            "Epoch 1, testing accuracy 0.695\n",
            "Epoch 2, testing accuracy 0.7983\n",
            "Epoch 3, testing accuracy 0.8487\n",
            "Epoch 4, testing accuracy 0.8566\n",
            "Epoch 5, testing accuracy 0.861\n",
            "Epoch 6, testing accuracy 0.8664\n",
            "Epoch 7, testing accuracy 0.8663\n",
            "Epoch 8, testing accuracy 0.8699\n",
            "Epoch 9, testing accuracy 0.8686\n",
            "Epoch 10, testing accuracy 0.8728\n",
            "Epoch 11, testing accuracy 0.8723\n",
            "Epoch 12, testing accuracy 0.9383\n",
            "Epoch 13, testing accuracy 0.9531\n",
            "Epoch 14, testing accuracy 0.9566\n",
            "Epoch 15, testing accuracy 0.9556\n",
            "Epoch 16, testing accuracy 0.9623\n",
            "Epoch 17, testing accuracy 0.9621\n",
            "Epoch 18, testing accuracy 0.9624\n",
            "Epoch 19, testing accuracy 0.9619\n",
            "Epoch 20, testing accuracy 0.9624\n",
            "Epoch 21, testing accuracy 0.9641\n",
            "Epoch 22, testing accuracy 0.9664\n",
            "Epoch 23, testing accuracy 0.9629\n",
            "Epoch 24, testing accuracy 0.9621\n",
            "Epoch 25, testing accuracy 0.9635\n",
            "Epoch 26, testing accuracy 0.9671\n",
            "Epoch 27, testing accuracy 0.9652\n",
            "Epoch 28, testing accuracy 0.9654\n",
            "Epoch 29, testing accuracy 0.9643\n",
            "Epoch 30, testing accuracy 0.9645\n",
            "Epoch 31, testing accuracy 0.963\n",
            "Epoch 32, testing accuracy 0.9628\n",
            "Epoch 33, testing accuracy 0.9662\n",
            "Epoch 34, testing accuracy 0.9671\n",
            "Epoch 35, testing accuracy 0.9622\n",
            "Epoch 36, testing accuracy 0.9648\n",
            "Epoch 37, testing accuracy 0.9673\n",
            "Epoch 38, testing accuracy 0.9665\n",
            "Epoch 39, testing accuracy 0.9671\n",
            "Epoch 40, testing accuracy 0.9674\n",
            "Epoch 41, testing accuracy 0.9686\n",
            "Epoch 42, testing accuracy 0.9663\n",
            "Epoch 43, testing accuracy 0.9665\n",
            "Epoch 44, testing accuracy 0.9687\n",
            "Epoch 45, testing accuracy 0.9672\n",
            "Epoch 46, testing accuracy 0.9692\n",
            "Epoch 47, testing accuracy 0.9666\n",
            "Epoch 48, testing accuracy 0.9702\n"
          ],
          "name": "stdout"
        }
      ]
    }
  ]
}